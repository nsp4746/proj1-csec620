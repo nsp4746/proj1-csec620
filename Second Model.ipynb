{
 "cells": [
  {
   "cell_type": "code",
   "id": "e59c0b394860a347",
   "metadata": {
    "ExecuteTime": {
     "end_time": "2024-09-26T19:23:57.439084Z",
     "start_time": "2024-09-26T19:20:43.545209Z"
    }
   },
   "source": [
    "# Nikhil Patil\n",
    "# CSEC 620\n",
    "# Project 1 New Model\n",
    "'''\n",
    "this model is far more efficient than my previous one. \n",
    "It uses the same dataset, but it uses the clean_df function from the dataprep library to clean the dataset as well all 77 features rather than just 4.  \n",
    "The larger sequential keras model versus functional keras model aids in efficiency as well. \n",
    "\n",
    "'''\n",
    "\n",
    "# Import the necessary libraries\n",
    "import time\n",
    "import warnings\n",
    "import numpy as np\n",
    "import pandas as pd\n",
    "import seaborn as sns\n",
    "import matplotlib.pyplot as plt\n",
    "\n",
    "from dataprep.clean import clean_df\n",
    "\n",
    "from sklearn.model_selection import train_test_split\n",
    "from sklearn.preprocessing import StandardScaler, OneHotEncoder\n",
    "from sklearn.metrics import confusion_matrix\n",
    "from sklearn.metrics import classification_report, f1_score\n",
    "from sklearn.metrics import precision_score, recall_score\n",
    "\n",
    "from tensorflow.keras.models import Sequential\n",
    "from tensorflow.keras.layers import Dense, Dropout\n",
    "\n",
    "\n",
    "warnings.filterwarnings(\"ignore\") # ignore warnings\n",
    "\n",
    "dataset_csv_path = 'Friday-WorkingHours-Afternoon-DDos.pcap_ISCX.csv' # the dataset used for this model. \n",
    "\n",
    "# Load and clean the dataset \n",
    "df = pd.read_csv(dataset_csv_path)\n",
    "df.columns = df.columns.str.strip()\n",
    "df.columns = df.columns.str.replace(\"/\", \"\", regex=False) \n",
    "df = clean_df(df,data_type_detection = \"none\", standardize_missing_values = \"remove\") \n",
    "'''\n",
    "The clean_df function is used to clean the dataset. The data_type_detection parameter is set to \"none\" because of the way that clean_df returns the dataframe.\n",
    "standardize_missing_values is set to \"remove\" to remove rows with missing values.\n",
    "'''\n",
    "\n",
    "# create list of features\n",
    "features = []\n",
    "for column in df.columns:\n",
    "    features.append(column)\n",
    "\n",
    "df.replace([np.inf, -np.inf], np.nan, inplace=True) # replace infinite values with Not a Number (NaN)\n",
    "df.fillna(0, inplace=True) # fill values with 0 \n",
    "\n",
    "df = df[features]\n",
    "df_features = df.drop('label', axis=1) # drop the label column\n",
    "df_labels = df['label'] # get the label column\n",
    "\n",
    "\n",
    "# Begin to fit the model\n",
    "scaler = StandardScaler() \n",
    "transformed_features = scaler.fit_transform(df_features)\n",
    "\n",
    "# Encode the Label column\n",
    "encoder = OneHotEncoder(sparse_output=False)\n",
    "labels_encoded = encoder.fit_transform(df_labels.values.reshape(-1,1))\n",
    "\n",
    "# Use train_test_split from scikit-learn to split the data into training and testing sets\n",
    "X_train, X_test, y_train, y_test = train_test_split(transformed_features, labels_encoded, train_size= .8, test_size=0.2)\n",
    "\n",
    "# Create the model\n",
    "model = Sequential([\n",
    "    Dense(512, activation='relu', input_shape=(X_train.shape[1],)),\n",
    "    Dropout(0.2),\n",
    "    Dense(256, activation='relu'),\n",
    "    Dropout(0.2),\n",
    "    Dense(128, activation='relu'),\n",
    "    Dropout(0.2),\n",
    "    Dense(64, activation='relu'),\n",
    "    Dropout(0.2),\n",
    "    Dense(32, activation='relu'),\n",
    "    Dropout(0.2),\n",
    "    Dense(16, activation='relu'),\n",
    "    Dropout(0.2),\n",
    "    Dense(labels_encoded.shape[1], activation='sigmoid')  # Sigmoid for binary classification\n",
    "])\n",
    "\n",
    "# Compile the model\n",
    "model.compile(optimizer='adam', loss='binary_crossentropy', metrics=['accuracy'])\n",
    "\n",
    "# Train the model\n",
    "start_time = time.perf_counter()\n",
    "model.fit(X_train, y_train, epochs=10, batch_size=32)\n",
    "# Evaluate the model on the test set\n",
    "loss, accuracy = model.evaluate(X_test, y_test)\n",
    "end_time = time.perf_counter()\n",
    "\n",
    "print(f\"Loss: {loss: .8f}, Accuracy: {accuracy: .12f}\")\n",
    "print(f\"Time taken: {end_time - start_time:.2f} seconds\")\n"
   ],
   "outputs": [
    {
     "name": "stdout",
     "output_type": "stream",
     "text": [
      "Column Headers Cleaning Report:\n",
      "\t77 values cleaned (97.47%)\n",
      "Number of Entries Cleaning Report:\n",
      "\t4 entries dropped (0.0%)\n",
      "Downcast Memory Report:\n",
      "\tMemory reducted from 174241739 to 98844245. New size: (56.73%)\n",
      "Epoch 1/10\n",
      "5644/5644 [==============================] - 17s 3ms/step - loss: 0.0171 - accuracy: 0.9960\n",
      "Epoch 2/10\n",
      "5644/5644 [==============================] - 16s 3ms/step - loss: 0.0081 - accuracy: 0.9985\n",
      "Epoch 3/10\n",
      "5644/5644 [==============================] - 16s 3ms/step - loss: 0.0076 - accuracy: 0.9987\n",
      "Epoch 4/10\n",
      "5644/5644 [==============================] - 17s 3ms/step - loss: 0.0076 - accuracy: 0.9988\n",
      "Epoch 5/10\n",
      "5644/5644 [==============================] - 17s 3ms/step - loss: 0.0068 - accuracy: 0.9989\n",
      "Epoch 6/10\n",
      "5644/5644 [==============================] - 17s 3ms/step - loss: 0.0064 - accuracy: 0.9988\n",
      "Epoch 7/10\n",
      "5644/5644 [==============================] - 18s 3ms/step - loss: 0.0065 - accuracy: 0.9988\n",
      "Epoch 8/10\n",
      "5644/5644 [==============================] - 18s 3ms/step - loss: 0.0054 - accuracy: 0.9988\n",
      "Epoch 9/10\n",
      "5644/5644 [==============================] - 18s 3ms/step - loss: 0.0053 - accuracy: 0.9989\n",
      "Epoch 10/10\n",
      "5644/5644 [==============================] - 26s 5ms/step - loss: 0.0050 - accuracy: 0.9988\n",
      "1411/1411 [==============================] - 2s 1ms/step - loss: 0.0068 - accuracy: 0.9992\n",
      "Loss:  0.00680874, Accuracy:  0.999224781990\n",
      "Time taken: 180.81 seconds\n"
     ]
    }
   ],
   "execution_count": 7
  },
  {
   "metadata": {
    "ExecuteTime": {
     "end_time": "2024-09-26T19:24:00.061329Z",
     "start_time": "2024-09-26T19:23:57.439084Z"
    }
   },
   "cell_type": "code",
   "source": [
    "# Collect the classification report\n",
    "# Code was taken from CNN model that shared as an example\n",
    "preds = model.predict(X_test, batch_size=32, verbose=0)\n",
    "y_true_labels = [np.argmax(t) for t in y_test]\n",
    "y_preds_labels = [np.argmax(t) for t in preds]\n",
    "class_metric_report = classification_report(y_true_labels, y_preds_labels, target_names=['BENIGN','DDoS'], digits=4)\n",
    "print(class_metric_report)"
   ],
   "id": "1fa601a727fbc933",
   "outputs": [
    {
     "name": "stdout",
     "output_type": "stream",
     "text": [
      "              precision    recall  f1-score   support\n",
      "\n",
      "      BENIGN     0.9986    0.9996    0.9991     19652\n",
      "        DDoS     0.9997    0.9989    0.9993     25497\n",
      "\n",
      "    accuracy                         0.9992     45149\n",
      "   macro avg     0.9992    0.9993    0.9992     45149\n",
      "weighted avg     0.9992    0.9992    0.9992     45149\n",
      "\n"
     ]
    }
   ],
   "execution_count": 8
  },
  {
   "cell_type": "code",
   "id": "initial_id",
   "metadata": {
    "collapsed": true,
    "ExecuteTime": {
     "end_time": "2024-09-26T19:24:02.921989Z",
     "start_time": "2024-09-26T19:24:00.157525Z"
    }
   },
   "source": [
    "# Plot the confusion matrix\n",
    "y_pred_prob = model.predict(X_test)\n",
    "y_pred = np.where(y_pred_prob > .5, 1, 0)\n",
    "\n",
    "\n",
    "# Since the labels are one-hot encoded, change them into a binary classification \n",
    "y_test_class = np.argmax(y_test, axis=1)\n",
    "y_pred_class = np.argmax(y_pred_prob, axis=1) \n",
    "\n",
    "# Calculate Confusion Matrix\n",
    "cm = confusion_matrix(y_test_class, y_pred_class)\n",
    "\n",
    "sns.heatmap(cm, annot=True, fmt='d', cmap='Blues')\n",
    "plt.ylabel('Actual Label')\n",
    "plt.xlabel('Predicted Label')\n",
    "plt.show()\n",
    "\n",
    "plt.savefig('confusion_matrix.png', dpi=400)"
   ],
   "outputs": [
    {
     "name": "stdout",
     "output_type": "stream",
     "text": [
      "1411/1411 [==============================] - 2s 1ms/step\n"
     ]
    },
    {
     "data": {
      "text/plain": [
       "<Figure size 640x480 with 2 Axes>"
      ],
      "image/png": "[encoded data removed]"
     },
     "metadata": {},
     "output_type": "display_data"
    },
    {
     "data": {
      "text/plain": [
       "<Figure size 640x480 with 0 Axes>"
      ]
     },
     "metadata": {},
     "output_type": "display_data"
    }
   ],
   "execution_count": 9
  }
 ],
 "metadata": {
  "kernelspec": {
   "display_name": "Python 3",
   "language": "python",
   "name": "python3"
  },
  "language_info": {
   "codemirror_mode": {
    "name": "ipython",
    "version": 2
   },
   "file_extension": ".py",
   "mimetype": "text/x-python",
   "name": "python",
   "nbconvert_exporter": "python",
   "pygments_lexer": "ipython2",
   "version": "2.7.6"
  }
 },
 "nbformat": 4,
 "nbformat_minor": 5
}
