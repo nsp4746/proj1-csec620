{
 "cells": [
  {
   "metadata": {
    "ExecuteTime": {
     "end_time": "2024-09-24T01:36:51.971103Z",
     "start_time": "2024-09-24T01:36:44.577467Z"
    }
   },
   "cell_type": "code",
   "source": [
    "# Nikhil Patil\n",
    "# CSEC 620\n",
    "# Project 1\n",
    "# This code was sourced from: https://www.tensorflow.org/tutorials/structured_data/preprocessing_layers#numerical_columns\n",
    "import pandas as pd\n",
    "import numpy as np\n",
    "import time\n",
    "from sklearn.preprocessing import LabelEncoder\n",
    "from sklearn.ensemble import RandomForestClassifier\n",
    "from sklearn.metrics import classification_report, accuracy_score\n",
    "\n",
    "# Load the dataset\n",
    "file_path = 'Friday-WorkingHours-Afternoon-DDos.pcap_ISCX.csv'\n",
    "\n",
    "dataframe = pd.read_csv(file_path)\n",
    "\n",
    "# Clean column names\n",
    "dataframe.columns = dataframe.columns.str.strip()\n",
    "dataframe.columns = dataframe.columns.str.replace(\"/\", \"\", regex=False)  # Remove any / to prevent issues\n",
    "\n",
    "# Encode the target column\n",
    "label_encoder = LabelEncoder()\n",
    "dataframe['target'] = np.where(dataframe['Label'] == 'DDoS', 1, 0)\n",
    "dataframe = dataframe.drop(columns=['Label'])  # Drop the original Label column\n",
    "\n",
    "\n",
    "# Split the data into training, validation, and test sets\n",
    "training, validation, test = np.split(dataframe.sample(frac=1), [int(0.8 * len(dataframe)), int(0.9 * len(dataframe))])\n",
    "\n",
    "# Separate features and target\n",
    "X_train = training.drop(columns=['target'])\n",
    "y_train = training['target']\n",
    "X_val = validation.drop(columns=['target'])\n",
    "y_val = validation['target']\n",
    "X_test = test.drop(columns=['target'])\n",
    "y_test = test['target']\n",
    "\n",
    "# Random Forest Classifier\n",
    "rf_model = RandomForestClassifier(n_estimators=100, random_state=3)  \n",
    "\n",
    "\n",
    "X_train = X_train.replace([np.inf, -np.inf], np.nan)\n",
    "X_train.fillna(X_train.mean(), inplace=True)\n",
    "\n",
    "X_val = X_val.replace([np.inf, -np.inf], np.nan)\n",
    "X_val.fillna(X_val.mean(), inplace=True)\n",
    "\n",
    "X_test = X_test.replace([np.inf, -np.inf], np.nan)\n",
    "X_test.fillna(X_test.mean(), inplace=True)\n",
    "\n",
    "# Ensure target values are still aligned\n",
    "y_train = y_train[X_train.index]\n",
    "y_val = y_val[X_val.index]\n",
    "y_test = y_test[X_test.index]"
   ],
   "id": "a51cf67a93379d1b",
   "outputs": [
    {
     "name": "stderr",
     "output_type": "stream",
     "text": [
      "C:\\Users\\Nikhil\\miniconda3\\envs\\tf-gpu\\lib\\site-packages\\numpy\\core\\fromnumeric.py:57: FutureWarning: 'DataFrame.swapaxes' is deprecated and will be removed in a future version. Please use 'DataFrame.transpose' instead.\n",
      "  return bound(*args, **kwds)\n"
     ]
    }
   ],
   "execution_count": 1
  },
  {
   "metadata": {},
   "cell_type": "markdown",
   "source": "",
   "id": "ac27405b49e39ee6"
  },
  {
   "cell_type": "code",
   "id": "51850922-d932-4e24-b58a-e6a6fa7b763a",
   "metadata": {
    "ExecuteTime": {
     "end_time": "2024-09-24T01:37:43.600507Z",
     "start_time": "2024-09-24T01:36:52.012495Z"
    }
   },
   "source": [
    "start = time.time()\n",
    "# Train the Random Forest model\n",
    "rf_model.fit(X_train, y_train)\n",
    "\n",
    "# Make predictions on validation and test sets\n",
    "val_predictions = rf_model.predict(X_val)\n",
    "test_predictions = rf_model.predict(X_test)\n",
    "\n",
    "# Evaluate the model\n",
    "val_accuracy = accuracy_score(y_val, val_predictions)\n",
    "test_accuracy = accuracy_score(y_test, test_predictions)\n",
    "\n",
    "end = time.time() - start\n",
    "\n",
    "# Print results\n",
    "print(f'Training time: {end} seconds')\n",
    "print(f'Validation Accuracy: {val_accuracy}')\n",
    "print(f'Test Accuracy: {test_accuracy}')\n",
    "print('\\nClassification Report on Test Set:')\n",
    "print(classification_report(y_test, test_predictions))"
   ],
   "outputs": [
    {
     "name": "stdout",
     "output_type": "stream",
     "text": [
      "Training time: 51.527567625045776 seconds\n",
      "Validation Accuracy: 1.0\n",
      "Test Accuracy: 0.9998228128460687\n",
      "\n",
      "Classification Report on Test Set:\n",
      "              precision    recall  f1-score   support\n",
      "\n",
      "           0       1.00      1.00      1.00      9661\n",
      "           1       1.00      1.00      1.00     12914\n",
      "\n",
      "    accuracy                           1.00     22575\n",
      "   macro avg       1.00      1.00      1.00     22575\n",
      "weighted avg       1.00      1.00      1.00     22575\n",
      "\n"
     ]
    }
   ],
   "execution_count": 2
  }
 ],
 "metadata": {
  "kernelspec": {
   "display_name": "Python 3 (ipykernel)",
   "language": "python",
   "name": "python3"
  },
  "language_info": {
   "codemirror_mode": {
    "name": "ipython",
    "version": 3
   },
   "file_extension": ".py",
   "mimetype": "text/x-python",
   "name": "python",
   "nbconvert_exporter": "python",
   "pygments_lexer": "ipython3",
   "version": "3.10.14"
  }
 },
 "nbformat": 4,
 "nbformat_minor": 5
}
